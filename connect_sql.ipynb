{
 "cells": [
  {
   "attachments": {},
   "cell_type": "markdown",
   "metadata": {},
   "source": [
    " Making table playtime coz we do not have a option to make current date as column name in sql"
   ]
  },
  {
   "cell_type": "code",
   "execution_count": 2,
   "metadata": {},
   "outputs": [],
   "source": [
    "import mysql.connector\n",
    "from datetime import *\n",
    "\n",
    "\n",
    "# Connect to the database\n",
    "conn = mysql.connector.connect(\n",
    "   host=\"localhost\",\n",
    "   user=\"root\",\n",
    "   password=\"sameer\",\n",
    "   database=\"badminton\",\n",
    "   port=3306\n",
    ")\n",
    "cur = conn.cursor()\n",
    "\n",
    "# Generate a column name based on the current date\n",
    "\n",
    "column_name =  datetime.now().strftime(\"%d_%m_%Y\")\n",
    "\n",
    "cur.execute(\"create table playtime(player_id int(10),game_id int(10),{} decimal(4,2))\".format(column_name))\n",
    "\n",
    "\n",
    "conn.commit()\n",
    "cur.close()\n",
    "conn.close()\n",
    "\n",
    "\n",
    "\n"
   ]
  },
  {
   "attachments": {},
   "cell_type": "markdown",
   "metadata": {},
   "source": [
    "To add a new column in playtime"
   ]
  },
  {
   "cell_type": "code",
   "execution_count": 2,
   "metadata": {},
   "outputs": [],
   "source": [
    "import mysql.connector\n",
    "from datetime import *\n",
    "\n",
    "\n",
    "# Connect to the database\n",
    "conn = mysql.connector.connect(\n",
    "   host=\"localhost\",\n",
    "   user=\"root\",\n",
    "   password=\"sameer\",\n",
    "   database=\"badminton\",\n",
    "   port=3308\n",
    ")\n",
    "cur = conn.cursor()\n",
    "alter_col_name =  datetime.now().strftime(\"%d_%m_%Y\")\n",
    "cur.execute(\"Alter table playtime add column {} decimal(4,2)\".format(alter_col_name))\n",
    "\n",
    "\n",
    "conn.commit()\n",
    "cur.close()\n",
    "conn.close()\n"
   ]
  },
  {
   "cell_type": "code",
   "execution_count": 7,
   "metadata": {},
   "outputs": [
    {
     "name": "stdout",
     "output_type": "stream",
     "text": [
      "['1', '2', '3', '4', '5', '6', '7', '8', '9', '10', '11', '12', '13', '14', '15', '16', '17', '18', '19']\n"
     ]
    }
   ],
   "source": [
    "names=[\"Sameer\", \"Saleem\",\"Devanshu\",\"Devayush\", \"Aniket\", \"Teja\", \"Vismay\", \"Ayush\",\"Shabeer\",\"Rathee\",\"Deepu\",\"Nitin\",\"Shukla\",\"Alok\",\"Navneet\",\"Yajath\",\"Sharfarz\",\"Rishikesh\",\"Arfan\"]\n",
    "c=[]\n",
    "for i in names:\n",
    "    ans=input(\"{}\".format(i),end=\"\\n\")\n",
    "    c.append(ans)\n",
    "print(c)\n",
    "        "
   ]
  },
  {
   "cell_type": "code",
   "execution_count": 19,
   "metadata": {},
   "outputs": [
    {
     "name": "stdout",
     "output_type": "stream",
     "text": [
      "[]\n"
     ]
    }
   ],
   "source": [
    "import mysql.connector\n",
    "from datetime import *\n",
    "\n",
    "\n",
    "# Connect to the database\n",
    "conn = mysql.connector.connect(\n",
    "   host=\"localhost\",\n",
    "   user=\"root\",\n",
    "   password=\"sameer\",\n",
    "   database=\"badminton\",\n",
    "   port=3308\n",
    ")\n",
    "cur = conn.cursor()\n",
    "\n",
    "cur.execute(\"update rough set `03_03_2023`=1.5 where player_id=102\")\n",
    "   \n",
    "   \n",
    "print(names)\n",
    "    \n",
    "conn.commit()\n",
    "cur.close()\n",
    "conn.close()"
   ]
  },
  {
   "cell_type": "code",
   "execution_count": 29,
   "metadata": {},
   "outputs": [
    {
     "name": "stdout",
     "output_type": "stream",
     "text": [
      "03_03_2023\n",
      "03_03_2023\n",
      "Goodd\n"
     ]
    }
   ],
   "source": [
    "from datetime import *\n",
    "column=['player_id', 'game_id', '03_03_2023']\n",
    "current_time  =  datetime.now().strftime(\"%d_%m_%Y\")\n",
    "latestColIndex=len(column)-1\n",
    "print((column[latestColIndex]))\n",
    "print(current_time)\n",
    "\n",
    "if column[latestColIndex] == current_time:\n"
   ]
  },
  {
   "cell_type": "code",
   "execution_count": 16,
   "metadata": {},
   "outputs": [
    {
     "name": "stdout",
     "output_type": "stream",
     "text": [
      "[101, 102, 103, 104, 105, 106, 107, 108, 109, 110, 111, 112, 113, 114, 115, 116, 117, 118, 119]\n"
     ]
    }
   ],
   "source": [
    "a=101\n",
    "b=[]\n",
    "for i in names:\n",
    "    b.append(a)\n",
    "    a+=1\n",
    "print(b)\n",
    "\n"
   ]
  },
  {
   "cell_type": "code",
   "execution_count": 2,
   "metadata": {},
   "outputs": [
    {
     "ename": "ModuleNotFoundError",
     "evalue": "No module named 'mysql'",
     "output_type": "error",
     "traceback": [
      "\u001b[1;31m---------------------------------------------------------------------------\u001b[0m",
      "\u001b[1;31mModuleNotFoundError\u001b[0m                       Traceback (most recent call last)",
      "Cell \u001b[1;32mIn[2], line 1\u001b[0m\n\u001b[1;32m----> 1\u001b[0m \u001b[39mimport\u001b[39;00m \u001b[39mmysql\u001b[39;00m\u001b[39m.\u001b[39;00m\u001b[39mconnector\u001b[39;00m\n",
      "\u001b[1;31mModuleNotFoundError\u001b[0m: No module named 'mysql'"
     ]
    }
   ],
   "source": [
    "import mysql.connector\n"
   ]
  },
  {
   "cell_type": "code",
   "execution_count": 4,
   "metadata": {},
   "outputs": [
    {
     "name": "stdout",
     "output_type": "stream",
     "text": [
      "Collecting mysql.connector\n",
      "  Downloading mysql-connector-2.2.9.tar.gz (11.9 MB)\n",
      "     --------------------------------------- 11.9/11.9 MB 21.8 MB/s eta 0:00:00\n",
      "  Preparing metadata (setup.py): started\n",
      "  Preparing metadata (setup.py): finished with status 'done'\n",
      "Installing collected packages: mysql.connector\n",
      "  Running setup.py install for mysql.connector: started\n",
      "  Running setup.py install for mysql.connector: finished with status 'done'\n",
      "Successfully installed mysql.connector-2.2.9\n",
      "Note: you may need to restart the kernel to use updated packages.\n"
     ]
    },
    {
     "name": "stderr",
     "output_type": "stream",
     "text": [
      "  DEPRECATION: mysql.connector is being installed using the legacy 'setup.py install' method, because it does not have a 'pyproject.toml' and the 'wheel' package is not installed. pip 23.1 will enforce this behaviour change. A possible replacement is to enable the '--use-pep517' option. Discussion can be found at https://github.com/pypa/pip/issues/8559\n",
      "\n",
      "[notice] A new release of pip available: 22.3.1 -> 23.0.1\n",
      "[notice] To update, run: python.exe -m pip install --upgrade pip\n"
     ]
    }
   ],
   "source": [
    "pip install mysql.connector\n"
   ]
  },
  {
   "cell_type": "code",
   "execution_count": null,
   "metadata": {},
   "outputs": [],
   "source": []
  }
 ],
 "metadata": {
  "kernelspec": {
   "display_name": "Python 3",
   "language": "python",
   "name": "python3"
  },
  "language_info": {
   "codemirror_mode": {
    "name": "ipython",
    "version": 3
   },
   "file_extension": ".py",
   "mimetype": "text/x-python",
   "name": "python",
   "nbconvert_exporter": "python",
   "pygments_lexer": "ipython3",
   "version": "3.11.2"
  },
  "orig_nbformat": 4
 },
 "nbformat": 4,
 "nbformat_minor": 2
}
